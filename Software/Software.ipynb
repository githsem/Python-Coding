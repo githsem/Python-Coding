{
 "cells": [
  {
   "cell_type": "code",
   "execution_count": null,
   "metadata": {},
   "outputs": [],
   "source": [
    "class Yazilimci():\n",
    "    def __init__(self,isim,soyisim,numara,maas,diller):\n",
    "        self.isim = isim\n",
    "        self.soyisim = soyisim\n",
    "        self.numara = numara\n",
    "        self.maas = maas\n",
    "        self.diller = diller\n",
    "        \n",
    "    def bilgileri_goster(self):\n",
    "        print(\"\"\"\n",
    "        Yazilimci Bilgileri Gosteriliyor\n",
    "        \n",
    "        Isim    : {}\n",
    "        Soyisim : {}\n",
    "        Numara  : {}\n",
    "        maas    : {}\n",
    "        diller  : {}\n",
    "        \n",
    "        \"\"\".format(self.isim,self.soyisim,self.numara,self.maas,self.diller))\n",
    "        \n",
    "    def zam_yap(self,miktar):\n",
    "        self.maas +=miktar\n",
    "        print(\"Zam gerceklestirildi...\")\n",
    "        \n",
    "    def dil_ekle(self,yenidil):\n",
    "        self.diller.append(yenidil)\n",
    "        print(\"Diller guncellendi...\")\n",
    "        \n",
    "        \n",
    "yazilimci = Yazilimci(\"Hans\",\"Muller\",567,4000,[\"C\",\"Pascal\",\"Java\",\"Python\"])        "
   ]
  },
  {
   "cell_type": "code",
   "execution_count": null,
   "metadata": {},
   "outputs": [],
   "source": [
    "yazilimci.bilgileri_goster()"
   ]
  },
  {
   "cell_type": "code",
   "execution_count": null,
   "metadata": {},
   "outputs": [],
   "source": [
    "yazilimci.zam_yap(500)"
   ]
  },
  {
   "cell_type": "code",
   "execution_count": null,
   "metadata": {},
   "outputs": [],
   "source": [
    "yazilimci.bilgileri_goster()"
   ]
  },
  {
   "cell_type": "code",
   "execution_count": null,
   "metadata": {},
   "outputs": [],
   "source": [
    "yazilimci.dil_ekle(\"SQL\")"
   ]
  },
  {
   "cell_type": "code",
   "execution_count": null,
   "metadata": {},
   "outputs": [],
   "source": [
    "yazilimci.bilgileri_goster()"
   ]
  },
  {
   "cell_type": "code",
   "execution_count": 37,
   "metadata": {},
   "outputs": [
    {
     "data": {
      "text/plain": [
       "4500"
      ]
     },
     "execution_count": 37,
     "metadata": {},
     "output_type": "execute_result"
    }
   ],
   "source": [
    "yazilimci.maas"
   ]
  },
  {
   "cell_type": "code",
   "execution_count": 38,
   "metadata": {},
   "outputs": [
    {
     "name": "stdout",
     "output_type": "stream",
     "text": [
      "\n",
      "        Yazilimci Bilgileri Gosteriliyor\n",
      "        \n",
      "        Isim    : Hans\n",
      "        Soyisim : Muller\n",
      "        Numara  : 567\n",
      "        maas    : 4500\n",
      "        diller  : ['C', 'Pascal', 'Java', 'Python', 'SQL']\n",
      "        \n",
      "        \n"
     ]
    }
   ],
   "source": [
    "yazilimci.bilgileri_goster()"
   ]
  },
  {
   "cell_type": "code",
   "execution_count": null,
   "metadata": {},
   "outputs": [],
   "source": []
  }
 ],
 "metadata": {
  "kernelspec": {
   "display_name": "Python 3",
   "language": "python",
   "name": "python3"
  },
  "language_info": {
   "codemirror_mode": {
    "name": "ipython",
    "version": 3
   },
   "file_extension": ".py",
   "mimetype": "text/x-python",
   "name": "python",
   "nbconvert_exporter": "python",
   "pygments_lexer": "ipython3",
   "version": "3.8.3"
  }
 },
 "nbformat": 4,
 "nbformat_minor": 4
}
