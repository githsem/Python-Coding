{
 "cells": [
  {
   "cell_type": "code",
   "execution_count": 1,
   "metadata": {},
   "outputs": [],
   "source": [
    "class Yazilimci():\n",
    "    def __init__(self,isim,soyisim,numara,maas,diller):\n",
    "        self.isim = isim\n",
    "        self.soyisim = soyisim\n",
    "        self.numara = numara\n",
    "        self.maas = maas\n",
    "        self.diller = diller\n",
    "        \n",
    "    def bilgileri_goster(self):\n",
    "        print(\"\"\"\n",
    "        Yazilimci Bilgileri Gosteriliyor\n",
    "        \n",
    "        Isim : {}\n",
    "        Soyisim : {}\n",
    "        Numara : {}\n",
    "        maas : {}\n",
    "        diller : {}\n",
    "        \n",
    "        \"\"\")\n",
    "        \n",
    "yazilimci = Yazilimci(\"Hans\",\"Muller\",567,4000,[\"c\",\"Pascal\",\"Java\",\"Python\"])        "
   ]
  },
  {
   "cell_type": "code",
   "execution_count": 2,
   "metadata": {},
   "outputs": [
    {
     "name": "stdout",
     "output_type": "stream",
     "text": [
      "\n",
      "        Yazilimci Bilgileri Gosteriliyor\n",
      "        \n",
      "        Isim : {}\n",
      "        Soyisim : {}\n",
      "        Numara : {}\n",
      "        maas : {}\n",
      "        diller : {}\n",
      "        \n",
      "        \n"
     ]
    }
   ],
   "source": [
    "yazilimci.bilgileri_goster()"
   ]
  },
  {
   "cell_type": "code",
   "execution_count": null,
   "metadata": {},
   "outputs": [],
   "source": []
  }
 ],
 "metadata": {
  "kernelspec": {
   "display_name": "Python 3",
   "language": "python",
   "name": "python3"
  },
  "language_info": {
   "codemirror_mode": {
    "name": "ipython",
    "version": 3
   },
   "file_extension": ".py",
   "mimetype": "text/x-python",
   "name": "python",
   "nbconvert_exporter": "python",
   "pygments_lexer": "ipython3",
   "version": "3.8.3"
  }
 },
 "nbformat": 4,
 "nbformat_minor": 4
}
