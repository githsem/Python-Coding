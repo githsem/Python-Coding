{
 "cells": [
  {
   "cell_type": "code",
   "execution_count": 41,
   "metadata": {},
   "outputs": [],
   "source": [
    "class Yazilimci():\n",
    "    def __init__(self,isim,soyisim,numara,maas,diller):\n",
    "        self.isim = isim\n",
    "        self.soyisim = soyisim\n",
    "        self.numara = numara\n",
    "        self.maas = maas\n",
    "        self.diller = diller\n",
    "        \n",
    "    def bilgileri_goster(self):\n",
    "        print(\"\"\"\n",
    "        Yazilimci Bilgileri Gosteriliyor\n",
    "        \n",
    "        Isim    : {}\n",
    "        Soyisim : {}\n",
    "        Numara  : {}\n",
    "        maas    : {}\n",
    "        diller  : {}\n",
    "        \n",
    "        \"\"\".format(self.isim,self.soyisim,self.numara,self.maas,self.diller))\n",
    "        \n",
    "    def zam_yap(self,miktar):\n",
    "        self.maas +=miktar\n",
    "        print(\"Zam gerceklestirildi...\")\n",
    "        \n",
    "    def dil_ekle(self,yenidil):\n",
    "        self.diller.append(yenidil)\n",
    "        print(\"Diller guncellendi...\")\n",
    "        \n",
    "        \n",
    "yazilimci = Yazilimci(\"Hans\",\"Muller\",567,4000,[\"C\",\"Pascal\",\"Java\",\"Python\"])        "
   ]
  },
  {
   "cell_type": "code",
   "execution_count": 42,
   "metadata": {},
   "outputs": [
    {
     "name": "stdout",
     "output_type": "stream",
     "text": [
      "\n",
      "        Yazilimci Bilgileri Gosteriliyor\n",
      "        \n",
      "        Isim    : Hans\n",
      "        Soyisim : Muller\n",
      "        Numara  : 567\n",
      "        maas    : 4000\n",
      "        diller  : ['C', 'Pascal', 'Java', 'Python']\n",
      "        \n",
      "        \n"
     ]
    }
   ],
   "source": [
    "yazilimci.bilgileri_goster()"
   ]
  },
  {
   "cell_type": "code",
   "execution_count": 43,
   "metadata": {},
   "outputs": [
    {
     "name": "stdout",
     "output_type": "stream",
     "text": [
      "Zam gerceklestirildi...\n"
     ]
    }
   ],
   "source": [
    "yazilimci.zam_yap(500)"
   ]
  },
  {
   "cell_type": "code",
   "execution_count": 44,
   "metadata": {},
   "outputs": [
    {
     "name": "stdout",
     "output_type": "stream",
     "text": [
      "\n",
      "        Yazilimci Bilgileri Gosteriliyor\n",
      "        \n",
      "        Isim    : Hans\n",
      "        Soyisim : Muller\n",
      "        Numara  : 567\n",
      "        maas    : 4500\n",
      "        diller  : ['C', 'Pascal', 'Java', 'Python']\n",
      "        \n",
      "        \n"
     ]
    }
   ],
   "source": [
    "yazilimci.bilgileri_goster()"
   ]
  },
  {
   "cell_type": "code",
   "execution_count": 45,
   "metadata": {},
   "outputs": [
    {
     "name": "stdout",
     "output_type": "stream",
     "text": [
      "Diller guncellendi...\n"
     ]
    }
   ],
   "source": [
    "yazilimci.dil_ekle(\"SQL\")"
   ]
  },
  {
   "cell_type": "code",
   "execution_count": 46,
   "metadata": {},
   "outputs": [
    {
     "name": "stdout",
     "output_type": "stream",
     "text": [
      "\n",
      "        Yazilimci Bilgileri Gosteriliyor\n",
      "        \n",
      "        Isim    : Hans\n",
      "        Soyisim : Muller\n",
      "        Numara  : 567\n",
      "        maas    : 4500\n",
      "        diller  : ['C', 'Pascal', 'Java', 'Python', 'SQL']\n",
      "        \n",
      "        \n"
     ]
    }
   ],
   "source": [
    "yazilimci.bilgileri_goster()"
   ]
  },
  {
   "cell_type": "code",
   "execution_count": 47,
   "metadata": {},
   "outputs": [
    {
     "data": {
      "text/plain": [
       "4500"
      ]
     },
     "execution_count": 47,
     "metadata": {},
     "output_type": "execute_result"
    }
   ],
   "source": [
    "yazilimci.maas"
   ]
  },
  {
   "cell_type": "code",
   "execution_count": 48,
   "metadata": {},
   "outputs": [
    {
     "name": "stdout",
     "output_type": "stream",
     "text": [
      "\n",
      "        Yazilimci Bilgileri Gosteriliyor\n",
      "        \n",
      "        Isim    : Hans\n",
      "        Soyisim : Muller\n",
      "        Numara  : 567\n",
      "        maas    : 4500\n",
      "        diller  : ['C', 'Pascal', 'Java', 'Python', 'SQL']\n",
      "        \n",
      "        \n"
     ]
    }
   ],
   "source": [
    "yazilimci.bilgileri_goster()"
   ]
  },
  {
   "cell_type": "code",
   "execution_count": 49,
   "metadata": {},
   "outputs": [
    {
     "name": "stdout",
     "output_type": "stream",
     "text": [
      "Isim : ali\n",
      "Soyisim : yilmaz\n",
      "Numara : 0\n",
      "Maas : 0\n",
      "Diller : A\n",
      "Isim : veli\n",
      "Soyisim : kaya\n",
      "Numara : 1\n",
      "Maas : 1\n",
      "Diller : B\n"
     ]
    }
   ],
   "source": [
    "liste = [0,1]\n",
    "for i in liste:\n",
    "    a = input(\"Isim : \")\n",
    "    b = input(\"Soyisim : \")\n",
    "    c = input(\"Numara : \")\n",
    "    d = input(\"Maas : \")\n",
    "    e = input(\"Diller : \")\n",
    "    liste[i] = Yazilimci(a,b,c,d,e)\n",
    "              "
   ]
  },
  {
   "cell_type": "code",
   "execution_count": 51,
   "metadata": {},
   "outputs": [
    {
     "name": "stdout",
     "output_type": "stream",
     "text": [
      "\n",
      "        Yazilimci Bilgileri Gosteriliyor\n",
      "        \n",
      "        Isim    : ali\n",
      "        Soyisim : yilmaz\n",
      "        Numara  : 0\n",
      "        maas    : 0\n",
      "        diller  : A\n",
      "        \n",
      "        \n"
     ]
    }
   ],
   "source": [
    "liste[0].bilgileri_goster()"
   ]
  },
  {
   "cell_type": "code",
   "execution_count": 53,
   "metadata": {},
   "outputs": [
    {
     "name": "stdout",
     "output_type": "stream",
     "text": [
      "\n",
      "        Yazilimci Bilgileri Gosteriliyor\n",
      "        \n",
      "        Isim    : ali\n",
      "        Soyisim : yilmaz\n",
      "        Numara  : 0\n",
      "        maas    : 0\n",
      "        diller  : A\n",
      "        \n",
      "        \n",
      "-----------------------------------\n",
      "\n",
      "        Yazilimci Bilgileri Gosteriliyor\n",
      "        \n",
      "        Isim    : veli\n",
      "        Soyisim : kaya\n",
      "        Numara  : 1\n",
      "        maas    : 1\n",
      "        diller  : B\n",
      "        \n",
      "        \n",
      "-----------------------------------\n"
     ]
    }
   ],
   "source": [
    "for i in range(0,2):\n",
    "    liste[i].bilgileri_goster()\n",
    "    print(\"-----------------------------------\")"
   ]
  },
  {
   "cell_type": "code",
   "execution_count": null,
   "metadata": {},
   "outputs": [],
   "source": []
  }
 ],
 "metadata": {
  "kernelspec": {
   "display_name": "Python 3",
   "language": "python",
   "name": "python3"
  },
  "language_info": {
   "codemirror_mode": {
    "name": "ipython",
    "version": 3
   },
   "file_extension": ".py",
   "mimetype": "text/x-python",
   "name": "python",
   "nbconvert_exporter": "python",
   "pygments_lexer": "ipython3",
   "version": "3.8.3"
  }
 },
 "nbformat": 4,
 "nbformat_minor": 4
}
