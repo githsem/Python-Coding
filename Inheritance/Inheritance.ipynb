{
 "cells": [
  {
   "cell_type": "code",
   "execution_count": 5,
   "metadata": {},
   "outputs": [],
   "source": [
    "class Calisan():\n",
    "    def __init__(self,isim,soyisim,maas):        \n",
    "        self.isim = isim\n",
    "        self.soyisim = soyisim\n",
    "        self.maas = maas\n",
    "    def goster(self):\n",
    "        print(\"Isim : {}\\nSoyisim : {}\\nMaas : {}\".format(self.isim,self.soyisim,self.maas))\n",
    "\n",
    "class Yonetici(Calisan):\n",
    "    pass\n",
    "    "
   ]
  },
  {
   "cell_type": "code",
   "execution_count": 6,
   "metadata": {},
   "outputs": [
    {
     "name": "stdout",
     "output_type": "stream",
     "text": [
      "Isim : Ali\n",
      "Soyisim : Yilmaz\n",
      "Maas : 3000\n"
     ]
    }
   ],
   "source": [
    "kisi1 = Calisan(\"Ali\",\"Yilmaz\",3000)\n",
    "kisi1.goster()"
   ]
  },
  {
   "cell_type": "code",
   "execution_count": 7,
   "metadata": {},
   "outputs": [
    {
     "name": "stdout",
     "output_type": "stream",
     "text": [
      "Isim : Mehmet\n",
      "Soyisim : Kaya\n",
      "Maas : 5000\n"
     ]
    }
   ],
   "source": [
    "kisi2 = Yonetici(\"Mehmet\",\"Kaya\",5000)\n",
    "kisi2.goster()"
   ]
  },
  {
   "cell_type": "code",
   "execution_count": 9,
   "metadata": {},
   "outputs": [
    {
     "ename": "IndentationError",
     "evalue": "expected an indented block (<ipython-input-9-a9b0e4f6b067>, line 11)",
     "output_type": "error",
     "traceback": [
      "\u001b[1;36m  File \u001b[1;32m\"<ipython-input-9-a9b0e4f6b067>\"\u001b[1;36m, line \u001b[1;32m11\u001b[0m\n\u001b[1;33m    super.__init__(self,isim,soyisim,maas)\u001b[0m\n\u001b[1;37m    ^\u001b[0m\n\u001b[1;31mIndentationError\u001b[0m\u001b[1;31m:\u001b[0m expected an indented block\n"
     ]
    }
   ],
   "source": [
    "class Calisan():\n",
    "    def __init__(self,isim,soyisim,maas):        \n",
    "        self.isim = isim\n",
    "        self.soyisim = soyisim\n",
    "        self.maas = maas\n",
    "    def goster(self):\n",
    "        print(\"Isim : {}\\nSoyisim : {}\\nMaas : {}\".format(self.isim,self.soyisim,self.maas))\n",
    "\n",
    "class Yonetici(Calisan):\n",
    "    def __init__(self,isim,soyisim,maas,kadro):\n",
    "    super.__init__(self,isim,soyisim,maas)\n",
    "    self.kadro = kadro"
   ]
  },
  {
   "cell_type": "code",
   "execution_count": null,
   "metadata": {},
   "outputs": [],
   "source": []
  }
 ],
 "metadata": {
  "kernelspec": {
   "display_name": "Python 3",
   "language": "python",
   "name": "python3"
  },
  "language_info": {
   "codemirror_mode": {
    "name": "ipython",
    "version": 3
   },
   "file_extension": ".py",
   "mimetype": "text/x-python",
   "name": "python",
   "nbconvert_exporter": "python",
   "pygments_lexer": "ipython3",
   "version": "3.8.3"
  }
 },
 "nbformat": 4,
 "nbformat_minor": 4
}
