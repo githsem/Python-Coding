{
 "cells": [
  {
   "cell_type": "code",
   "execution_count": 5,
   "metadata": {},
   "outputs": [],
   "source": [
    "class Calisan():\n",
    "    def __init__(self,isim,soyisim,maas):        \n",
    "        self.isim = isim\n",
    "        self.soyisim = soyisim\n",
    "        self.maas = maas\n",
    "    def goster(self):\n",
    "        print(\"Isim : {}\\nSoyisim : {}\\nMaas : {}\".format(self.isim,self.soyisim,self.maas))\n",
    "\n",
    "class Yonetici(Calisan):\n",
    "    pass\n",
    "    "
   ]
  },
  {
   "cell_type": "code",
   "execution_count": 6,
   "metadata": {},
   "outputs": [
    {
     "name": "stdout",
     "output_type": "stream",
     "text": [
      "Isim : Ali\n",
      "Soyisim : Yilmaz\n",
      "Maas : 3000\n"
     ]
    }
   ],
   "source": [
    "kisi1 = Calisan(\"Ali\",\"Yilmaz\",3000)\n",
    "kisi1.goster()"
   ]
  },
  {
   "cell_type": "code",
   "execution_count": 7,
   "metadata": {},
   "outputs": [
    {
     "name": "stdout",
     "output_type": "stream",
     "text": [
      "Isim : Mehmet\n",
      "Soyisim : Kaya\n",
      "Maas : 5000\n"
     ]
    }
   ],
   "source": [
    "kisi2 = Yonetici(\"Mehmet\",\"Kaya\",5000)\n",
    "kisi2.goster()"
   ]
  },
  {
   "cell_type": "code",
   "execution_count": 14,
   "metadata": {},
   "outputs": [],
   "source": [
    "class Calisan():\n",
    "    def __init__(self,isim,soyisim,maas):        \n",
    "        self.isim = isim\n",
    "        self.soyisim = soyisim\n",
    "        self.maas = maas\n",
    "    def goster(self):\n",
    "        print(\"Isim : {}\\nSoyisim : {}\\nMaas : {}\".format(self.isim,self.soyisim,self.maas))\n",
    "\n",
    "class Yonetici(Calisan):\n",
    "    def __init__(self,isim,soyisim,maas,kadro):\n",
    "        super().__init__(self,isim,soyisim,maas)\n",
    "        self.kadro = kadro"
   ]
  },
  {
   "cell_type": "code",
   "execution_count": 15,
   "metadata": {},
   "outputs": [
    {
     "ename": "TypeError",
     "evalue": "__init__() takes 4 positional arguments but 5 were given",
     "output_type": "error",
     "traceback": [
      "\u001b[1;31m---------------------------------------------------------------------------\u001b[0m",
      "\u001b[1;31mTypeError\u001b[0m                                 Traceback (most recent call last)",
      "\u001b[1;32m<ipython-input-15-629d635ac503>\u001b[0m in \u001b[0;36m<module>\u001b[1;34m\u001b[0m\n\u001b[1;32m----> 1\u001b[1;33m \u001b[0mkisi3\u001b[0m \u001b[1;33m=\u001b[0m \u001b[0mYonetici\u001b[0m\u001b[1;33m(\u001b[0m\u001b[1;34m\"AHmet\"\u001b[0m\u001b[1;33m,\u001b[0m\u001b[1;34m\"Demir\"\u001b[0m\u001b[1;33m,\u001b[0m\u001b[1;36m6000\u001b[0m\u001b[1;33m,\u001b[0m\u001b[1;36m30\u001b[0m\u001b[1;33m)\u001b[0m\u001b[1;33m\u001b[0m\u001b[1;33m\u001b[0m\u001b[0m\n\u001b[0m\u001b[0;32m      2\u001b[0m \u001b[0mkisi3\u001b[0m\u001b[1;33m.\u001b[0m\u001b[0mgoster\u001b[0m\u001b[1;33m(\u001b[0m\u001b[1;33m)\u001b[0m\u001b[1;33m\u001b[0m\u001b[1;33m\u001b[0m\u001b[0m\n",
      "\u001b[1;32m<ipython-input-14-7656863599bc>\u001b[0m in \u001b[0;36m__init__\u001b[1;34m(self, isim, soyisim, maas, kadro)\u001b[0m\n\u001b[0;32m      9\u001b[0m \u001b[1;32mclass\u001b[0m \u001b[0mYonetici\u001b[0m\u001b[1;33m(\u001b[0m\u001b[0mCalisan\u001b[0m\u001b[1;33m)\u001b[0m\u001b[1;33m:\u001b[0m\u001b[1;33m\u001b[0m\u001b[1;33m\u001b[0m\u001b[0m\n\u001b[0;32m     10\u001b[0m     \u001b[1;32mdef\u001b[0m \u001b[0m__init__\u001b[0m\u001b[1;33m(\u001b[0m\u001b[0mself\u001b[0m\u001b[1;33m,\u001b[0m\u001b[0misim\u001b[0m\u001b[1;33m,\u001b[0m\u001b[0msoyisim\u001b[0m\u001b[1;33m,\u001b[0m\u001b[0mmaas\u001b[0m\u001b[1;33m,\u001b[0m\u001b[0mkadro\u001b[0m\u001b[1;33m)\u001b[0m\u001b[1;33m:\u001b[0m\u001b[1;33m\u001b[0m\u001b[1;33m\u001b[0m\u001b[0m\n\u001b[1;32m---> 11\u001b[1;33m         \u001b[0msuper\u001b[0m\u001b[1;33m(\u001b[0m\u001b[1;33m)\u001b[0m\u001b[1;33m.\u001b[0m\u001b[0m__init__\u001b[0m\u001b[1;33m(\u001b[0m\u001b[0mself\u001b[0m\u001b[1;33m,\u001b[0m\u001b[0misim\u001b[0m\u001b[1;33m,\u001b[0m\u001b[0msoyisim\u001b[0m\u001b[1;33m,\u001b[0m\u001b[0mmaas\u001b[0m\u001b[1;33m)\u001b[0m\u001b[1;33m\u001b[0m\u001b[1;33m\u001b[0m\u001b[0m\n\u001b[0m\u001b[0;32m     12\u001b[0m         \u001b[0mself\u001b[0m\u001b[1;33m.\u001b[0m\u001b[0mkadro\u001b[0m \u001b[1;33m=\u001b[0m \u001b[0mkadro\u001b[0m\u001b[1;33m\u001b[0m\u001b[1;33m\u001b[0m\u001b[0m\n",
      "\u001b[1;31mTypeError\u001b[0m: __init__() takes 4 positional arguments but 5 were given"
     ]
    }
   ],
   "source": [
    "kisi3 = Yonetici(\"AHmet\",\"Demir\",6000,30)\n",
    "kisi3.goster()"
   ]
  },
  {
   "cell_type": "code",
   "execution_count": null,
   "metadata": {},
   "outputs": [],
   "source": []
  }
 ],
 "metadata": {
  "kernelspec": {
   "display_name": "Python 3",
   "language": "python",
   "name": "python3"
  },
  "language_info": {
   "codemirror_mode": {
    "name": "ipython",
    "version": 3
   },
   "file_extension": ".py",
   "mimetype": "text/x-python",
   "name": "python",
   "nbconvert_exporter": "python",
   "pygments_lexer": "ipython3",
   "version": "3.8.3"
  }
 },
 "nbformat": 4,
 "nbformat_minor": 4
}
