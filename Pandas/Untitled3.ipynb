{
 "cells": [
  {
   "cell_type": "code",
   "execution_count": 9,
   "metadata": {},
   "outputs": [],
   "source": [
    "import numpy as np\n",
    "import pandas as pd\n",
    "from numpy.random import randn"
   ]
  },
  {
   "cell_type": "code",
   "execution_count": 10,
   "metadata": {},
   "outputs": [],
   "source": [
    "outerIndex = [\"Group1\",\"Group1\",\"Group1\",\"Group2\",\"Group2\",\"Group2\",\"Group3\",\"Group3\",\"Group3\"]"
   ]
  },
  {
   "cell_type": "code",
   "execution_count": 11,
   "metadata": {},
   "outputs": [],
   "source": [
    "innerIndex = [\"Index1\",\"Index2\",\"Index3\",\"Index1\",\"Index2\",\"Index3\",\"Index1\",\"Index2\",\"Index3\"]"
   ]
  },
  {
   "cell_type": "code",
   "execution_count": 12,
   "metadata": {},
   "outputs": [
    {
     "data": {
      "text/plain": [
       "[('Group1', 'Index1'),\n",
       " ('Group1', 'Index2'),\n",
       " ('Group1', 'Index3'),\n",
       " ('Group2', 'Index1'),\n",
       " ('Group2', 'Index2'),\n",
       " ('Group2', 'Index3'),\n",
       " ('Group3', 'Index1'),\n",
       " ('Group3', 'Index2'),\n",
       " ('Group3', 'Index3')]"
      ]
     },
     "execution_count": 12,
     "metadata": {},
     "output_type": "execute_result"
    }
   ],
   "source": [
    "list(zip(outerIndex, innerIndex))"
   ]
  },
  {
   "cell_type": "code",
   "execution_count": 17,
   "metadata": {},
   "outputs": [],
   "source": [
    "hierarchy = list(zip(outerIndex, innerIndex))"
   ]
  },
  {
   "cell_type": "code",
   "execution_count": 18,
   "metadata": {},
   "outputs": [],
   "source": [
    "hierarchy = pd.MultiIndex.from_tuples(hierarchy)"
   ]
  },
  {
   "cell_type": "code",
   "execution_count": 19,
   "metadata": {},
   "outputs": [
    {
     "data": {
      "text/plain": [
       "MultiIndex([('Group1', 'Index1'),\n",
       "            ('Group1', 'Index2'),\n",
       "            ('Group1', 'Index3'),\n",
       "            ('Group2', 'Index1'),\n",
       "            ('Group2', 'Index2'),\n",
       "            ('Group2', 'Index3'),\n",
       "            ('Group3', 'Index1'),\n",
       "            ('Group3', 'Index2'),\n",
       "            ('Group3', 'Index3')],\n",
       "           )"
      ]
     },
     "execution_count": 19,
     "metadata": {},
     "output_type": "execute_result"
    }
   ],
   "source": [
    "hierarchy"
   ]
  },
  {
   "cell_type": "code",
   "execution_count": 20,
   "metadata": {},
   "outputs": [],
   "source": [
    "df = pd.DataFrame(randn(9,3),hierarchy, columns = [\"Column1\",\"Column2\",\"Column3\"])"
   ]
  },
  {
   "cell_type": "code",
   "execution_count": 21,
   "metadata": {},
   "outputs": [
    {
     "data": {
      "text/html": [
       "<div>\n",
       "<style scoped>\n",
       "    .dataframe tbody tr th:only-of-type {\n",
       "        vertical-align: middle;\n",
       "    }\n",
       "\n",
       "    .dataframe tbody tr th {\n",
       "        vertical-align: top;\n",
       "    }\n",
       "\n",
       "    .dataframe thead th {\n",
       "        text-align: right;\n",
       "    }\n",
       "</style>\n",
       "<table border=\"1\" class=\"dataframe\">\n",
       "  <thead>\n",
       "    <tr style=\"text-align: right;\">\n",
       "      <th></th>\n",
       "      <th></th>\n",
       "      <th>Column1</th>\n",
       "      <th>Column2</th>\n",
       "      <th>Column3</th>\n",
       "    </tr>\n",
       "  </thead>\n",
       "  <tbody>\n",
       "    <tr>\n",
       "      <th rowspan=\"3\" valign=\"top\">Group1</th>\n",
       "      <th>Index1</th>\n",
       "      <td>1.712561</td>\n",
       "      <td>-0.802832</td>\n",
       "      <td>-1.278073</td>\n",
       "    </tr>\n",
       "    <tr>\n",
       "      <th>Index2</th>\n",
       "      <td>0.157845</td>\n",
       "      <td>0.303561</td>\n",
       "      <td>-0.542297</td>\n",
       "    </tr>\n",
       "    <tr>\n",
       "      <th>Index3</th>\n",
       "      <td>-1.183715</td>\n",
       "      <td>-2.289133</td>\n",
       "      <td>1.671503</td>\n",
       "    </tr>\n",
       "    <tr>\n",
       "      <th rowspan=\"3\" valign=\"top\">Group2</th>\n",
       "      <th>Index1</th>\n",
       "      <td>-0.397990</td>\n",
       "      <td>-0.900426</td>\n",
       "      <td>0.686852</td>\n",
       "    </tr>\n",
       "    <tr>\n",
       "      <th>Index2</th>\n",
       "      <td>0.389449</td>\n",
       "      <td>-0.531682</td>\n",
       "      <td>-0.497294</td>\n",
       "    </tr>\n",
       "    <tr>\n",
       "      <th>Index3</th>\n",
       "      <td>-0.221354</td>\n",
       "      <td>-1.558980</td>\n",
       "      <td>-1.041037</td>\n",
       "    </tr>\n",
       "    <tr>\n",
       "      <th rowspan=\"3\" valign=\"top\">Group3</th>\n",
       "      <th>Index1</th>\n",
       "      <td>-0.166423</td>\n",
       "      <td>-0.206215</td>\n",
       "      <td>-1.268823</td>\n",
       "    </tr>\n",
       "    <tr>\n",
       "      <th>Index2</th>\n",
       "      <td>1.073261</td>\n",
       "      <td>0.382249</td>\n",
       "      <td>2.077991</td>\n",
       "    </tr>\n",
       "    <tr>\n",
       "      <th>Index3</th>\n",
       "      <td>0.757268</td>\n",
       "      <td>0.740509</td>\n",
       "      <td>0.819494</td>\n",
       "    </tr>\n",
       "  </tbody>\n",
       "</table>\n",
       "</div>"
      ],
      "text/plain": [
       "                Column1   Column2   Column3\n",
       "Group1 Index1  1.712561 -0.802832 -1.278073\n",
       "       Index2  0.157845  0.303561 -0.542297\n",
       "       Index3 -1.183715 -2.289133  1.671503\n",
       "Group2 Index1 -0.397990 -0.900426  0.686852\n",
       "       Index2  0.389449 -0.531682 -0.497294\n",
       "       Index3 -0.221354 -1.558980 -1.041037\n",
       "Group3 Index1 -0.166423 -0.206215 -1.268823\n",
       "       Index2  1.073261  0.382249  2.077991\n",
       "       Index3  0.757268  0.740509  0.819494"
      ]
     },
     "execution_count": 21,
     "metadata": {},
     "output_type": "execute_result"
    }
   ],
   "source": [
    "df"
   ]
  },
  {
   "cell_type": "code",
   "execution_count": 25,
   "metadata": {},
   "outputs": [
    {
     "data": {
      "text/plain": [
       "Group1  Index1    1.712561\n",
       "        Index2    0.157845\n",
       "        Index3   -1.183715\n",
       "Group2  Index1   -0.397990\n",
       "        Index2    0.389449\n",
       "        Index3   -0.221354\n",
       "Group3  Index1   -0.166423\n",
       "        Index2    1.073261\n",
       "        Index3    0.757268\n",
       "Name: Column1, dtype: float64"
      ]
     },
     "execution_count": 25,
     "metadata": {},
     "output_type": "execute_result"
    }
   ],
   "source": [
    "df[\"Column1\"]"
   ]
  },
  {
   "cell_type": "code",
   "execution_count": 37,
   "metadata": {},
   "outputs": [
    {
     "data": {
      "text/plain": [
       "1.7125605659762575"
      ]
     },
     "execution_count": 37,
     "metadata": {},
     "output_type": "execute_result"
    }
   ],
   "source": [
    "df.loc[\"Group1\",\"Index1\"][\"Column1\"]"
   ]
  },
  {
   "cell_type": "code",
   "execution_count": null,
   "metadata": {},
   "outputs": [],
   "source": []
  }
 ],
 "metadata": {
  "kernelspec": {
   "display_name": "Python 3",
   "language": "python",
   "name": "python3"
  },
  "language_info": {
   "codemirror_mode": {
    "name": "ipython",
    "version": 3
   },
   "file_extension": ".py",
   "mimetype": "text/x-python",
   "name": "python",
   "nbconvert_exporter": "python",
   "pygments_lexer": "ipython3",
   "version": "3.8.3"
  }
 },
 "nbformat": 4,
 "nbformat_minor": 4
}
